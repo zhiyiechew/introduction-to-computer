{
  "nbformat": 4,
  "nbformat_minor": 0,
  "metadata": {
    "colab": {
      "name": "0601.ipynb",
      "provenance": [],
      "collapsed_sections": [],
      "include_colab_link": true
    },
    "kernelspec": {
      "name": "python3",
      "display_name": "Python 3"
    },
    "language_info": {
      "name": "python"
    }
  },
  "cells": [
    {
      "cell_type": "markdown",
      "metadata": {
        "id": "view-in-github",
        "colab_type": "text"
      },
      "source": [
        "<a href=\"https://colab.research.google.com/github/zhiyiechew/introduction-to-computer/blob/main/0601.ipynb\" target=\"_parent\"><img src=\"https://colab.research.google.com/assets/colab-badge.svg\" alt=\"Open In Colab\"/></a>"
      ]
    },
    {
      "cell_type": "code",
      "execution_count": null,
      "metadata": {
        "colab": {
          "base_uri": "https://localhost:8080/"
        },
        "id": "YHX1V_DcoAzP",
        "outputId": "71764dd0-8536-4db5-aa9f-d811b4871666"
      },
      "outputs": [
        {
          "output_type": "stream",
          "name": "stdout",
          "text": [
            "0601\n"
          ]
        }
      ],
      "source": [
        "print(\"0601\")"
      ]
    },
    {
      "cell_type": "code",
      "source": [
        "for i in range(2,10):\n",
        "  for j in range(1,10):\n",
        "    product = i * j\n",
        "    print(\"%d*%d=%2d \" % (i , j,product),end=\"\")\n",
        "  print( ) "
      ],
      "metadata": {
        "colab": {
          "base_uri": "https://localhost:8080/"
        },
        "id": "I9WAP6f0oP7o",
        "outputId": "0fa97d37-316e-4580-fb4d-53a3d71de14f"
      },
      "execution_count": null,
      "outputs": [
        {
          "output_type": "stream",
          "name": "stdout",
          "text": [
            "2*1= 2 2*2= 4 2*3= 6 2*4= 8 2*5=10 2*6=12 2*7=14 2*8=16 2*9=18 \n",
            "3*1= 3 3*2= 6 3*3= 9 3*4=12 3*5=15 3*6=18 3*7=21 3*8=24 3*9=27 \n",
            "4*1= 4 4*2= 8 4*3=12 4*4=16 4*5=20 4*6=24 4*7=28 4*8=32 4*9=36 \n",
            "5*1= 5 5*2=10 5*3=15 5*4=20 5*5=25 5*6=30 5*7=35 5*8=40 5*9=45 \n",
            "6*1= 6 6*2=12 6*3=18 6*4=24 6*5=30 6*6=36 6*7=42 6*8=48 6*9=54 \n",
            "7*1= 7 7*2=14 7*3=21 7*4=28 7*5=35 7*6=42 7*7=49 7*8=56 7*9=63 \n",
            "8*1= 8 8*2=16 8*3=24 8*4=32 8*5=40 8*6=48 8*7=56 8*8=64 8*9=72 \n",
            "9*1= 9 9*2=18 9*3=27 9*4=36 9*5=45 9*6=54 9*7=63 9*8=72 9*9=81 \n"
          ]
        }
      ]
    },
    {
      "cell_type": "code",
      "source": [
        "a = int(input(\"請輸入a的值:\"))\n",
        "b = int(input(\"請輸入b的值:\"))\n",
        "\n",
        "maxno = a*b\n",
        "for i in range(1,maxno+1):\n",
        "  if(i % a == 0 and i % b ==0):\n",
        "    break\n",
        "print(\"%d和 %d的最小公倍數=%d\" %(a,b,i))\n"
      ],
      "metadata": {
        "colab": {
          "base_uri": "https://localhost:8080/"
        },
        "id": "3ANH5A3IpjXd",
        "outputId": "104acaa9-5362-4f7d-cf4e-1dd8fdaad8dc"
      },
      "execution_count": null,
      "outputs": [
        {
          "output_type": "stream",
          "name": "stdout",
          "text": [
            "請輸入a的值:5\n",
            "請輸入b的值:4\n",
            "5和 4的最小公倍數=20\n"
          ]
        }
      ]
    },
    {
      "cell_type": "markdown",
      "source": [
        "數列排除"
      ],
      "metadata": {
        "id": "1q3Vks40rFMY"
      }
    },
    {
      "cell_type": "code",
      "source": [
        "n=int(input(\"請輸入一個正整數:\"))\n",
        "for i in range(1,n+1):\n",
        "  if i % 5 ==0:\n",
        "    continue\n",
        "  print(i,end=\" \")"
      ],
      "metadata": {
        "colab": {
          "base_uri": "https://localhost:8080/"
        },
        "id": "Rk0BjdIcq9Am",
        "outputId": "1de34247-a7f7-4874-ace9-c08c2ffb9388"
      },
      "execution_count": null,
      "outputs": [
        {
          "output_type": "stream",
          "name": "stdout",
          "text": [
            "請輸入一個正整數:25\n",
            "1 2 3 4 6 7 8 9 11 12 13 14 16 17 18 19 21 22 23 24 "
          ]
        }
      ]
    },
    {
      "cell_type": "code",
      "source": [
        "total = n = 0\n",
        "while(n<10):\n",
        "  n+=1\n",
        "  total+=n\n",
        "print(total)"
      ],
      "metadata": {
        "colab": {
          "base_uri": "https://localhost:8080/"
        },
        "id": "0N0RnUWdsHEe",
        "outputId": "eab36acf-4c22-416c-89e0-1d792dd49301"
      },
      "execution_count": null,
      "outputs": [
        {
          "output_type": "stream",
          "name": "stdout",
          "text": [
            "55\n"
          ]
        }
      ]
    },
    {
      "cell_type": "code",
      "source": [
        "total = n = 0\n",
        "while(n<=10):\n",
        "  total+=n\n",
        "  n += 1\n",
        "print(total)"
      ],
      "metadata": {
        "colab": {
          "base_uri": "https://localhost:8080/"
        },
        "id": "KgbJ_PYxtYol",
        "outputId": "29365c6c-ae20-4588-edf4-620adef30c63"
      },
      "execution_count": null,
      "outputs": [
        {
          "output_type": "stream",
          "name": "stdout",
          "text": [
            "55\n"
          ]
        }
      ]
    },
    {
      "cell_type": "code",
      "source": [
        "total=i=1\n",
        "n=int(input(\"請輸入正整數n的值:\"))\n",
        "while i<=n:\n",
        "  total *= i\n",
        "  i+=1\n",
        "print(\"%d!=%d\" %(n,total))"
      ],
      "metadata": {
        "colab": {
          "base_uri": "https://localhost:8080/"
        },
        "id": "aA8KxQkQuBan",
        "outputId": "6ea8e3d3-dcc1-4081-96e4-3608cafb333b"
      },
      "execution_count": null,
      "outputs": [
        {
          "output_type": "stream",
          "name": "stdout",
          "text": [
            "請輸入正整數n的值:5\n",
            "5!=120\n"
          ]
        }
      ]
    },
    {
      "cell_type": "code",
      "source": [
        "sumA=0\n",
        "sumB=0\n",
        "for i in range(1,51):\n",
        "  if i %2==0:\n",
        "    sumA=sumA+i\n",
        "  else:\n",
        "    sumB=sumB+i\n",
        "print(\"0到50的偶數和結果是\",sumA)\n",
        "print(\"0到50的奇數和結果是\",sumB)"
      ],
      "metadata": {
        "colab": {
          "base_uri": "https://localhost:8080/"
        },
        "id": "9REpzwcjuxSa",
        "outputId": "2e7dcd12-65f6-4815-b5b7-4014c4a7bd06"
      },
      "execution_count": null,
      "outputs": [
        {
          "output_type": "stream",
          "name": "stdout",
          "text": [
            "0到50的偶數和結果是 650\n",
            "0到50的奇數和結果是 625\n"
          ]
        }
      ]
    },
    {
      "cell_type": "code",
      "source": [
        "b = int(input())\n",
        "for i in range(b):\n",
        "    for j in range(b-i):\n",
        "          print('*',end='')\n",
        "    print('\\n',end='') "
      ],
      "metadata": {
        "colab": {
          "base_uri": "https://localhost:8080/"
        },
        "id": "QBG-DAu7A8Cm",
        "outputId": "a3264b2a-6ec8-4ad9-d501-15a6290db897"
      },
      "execution_count": null,
      "outputs": [
        {
          "output_type": "stream",
          "name": "stdout",
          "text": [
            "7\n",
            "*******\n",
            "******\n",
            "*****\n",
            "****\n",
            "***\n",
            "**\n",
            "*\n"
          ]
        }
      ]
    },
    {
      "cell_type": "code",
      "source": [
        "b = int(input())\n",
        "for i in range(b):\n",
        "    for j in range(b-i):\n",
        "          print('*',end='')\n",
        "    print('\\n',end='')"
      ],
      "metadata": {
        "colab": {
          "base_uri": "https://localhost:8080/"
        },
        "id": "mZZ-gZ8tDjxz",
        "outputId": "7d9b35b7-1f7a-4285-c4bf-c0cc3be10647"
      },
      "execution_count": null,
      "outputs": [
        {
          "output_type": "stream",
          "name": "stdout",
          "text": [
            "5\n",
            "*****\n",
            "****\n",
            "***\n",
            "**\n",
            "*\n"
          ]
        }
      ]
    },
    {
      "cell_type": "code",
      "source": [
        "sum=0\n",
        "for i in range(1,101):\n",
        "  if i %3==0 or i%7==0:\n",
        "    sum+=i\n",
        "print(\"數值1-100中，所有是3或7倍數的數之總和=\",sum)"
      ],
      "metadata": {
        "colab": {
          "base_uri": "https://localhost:8080/"
        },
        "id": "-IuOf_m0JFX1",
        "outputId": "6ad6dd4a-7405-4ff0-ce5f-04c93b94ab65"
      },
      "execution_count": null,
      "outputs": [
        {
          "output_type": "stream",
          "name": "stdout",
          "text": [
            "數值1-100中，所有是3或7倍數的數之總和= 2208\n"
          ]
        }
      ]
    },
    {
      "cell_type": "code",
      "source": [
        "n=int(input(\"請輸入正整數:\"))\n",
        "factor = [ ]\n",
        "for i in range(1,n+1):\n",
        "  if n % i ==0:\n",
        "     factor.append(i)\n",
        "print( factor)"
      ],
      "metadata": {
        "id": "OLhUbwweLBdA",
        "colab": {
          "base_uri": "https://localhost:8080/"
        },
        "outputId": "8f44da47-dd7c-46e5-b301-6aeb11980fe3"
      },
      "execution_count": null,
      "outputs": [
        {
          "output_type": "stream",
          "name": "stdout",
          "text": [
            "請輸入正整數:12\n",
            "[1, 2, 3, 4, 6, 12]\n"
          ]
        }
      ]
    },
    {
      "cell_type": "code",
      "source": [
        "n=int(input(\"請輸入正整數:\"))\n",
        "factor = [ ]\n",
        "for i in range(1,n+1):\n",
        "  if n % i ==0:\n",
        "     factor.append(i)\n",
        "     continue\n",
        "  else:\n",
        "    pass\n",
        "if len(factor)==0:\n",
        "  print(\"prime!\")\n",
        "else:\n",
        "  print(factor)\n",
        "\n",
        "i=1\n",
        "if n>=2:\n",
        " \n",
        "  while i <=n:\n",
        "    i+=i\n",
        "    if n %i==0:\n",
        "      print(n,\"不是質數\")\n",
        "    else:\n",
        "      n %i!=0;\n",
        "      print(n,\"是質數\")\n",
        "      "
      ],
      "metadata": {
        "colab": {
          "base_uri": "https://localhost:8080/"
        },
        "id": "KpK18To80-ku",
        "outputId": "df758156-716a-4bf5-8567-10881768da34"
      },
      "execution_count": null,
      "outputs": [
        {
          "output_type": "stream",
          "name": "stdout",
          "text": [
            "請輸入正整數:11\n",
            "[1, 11]\n",
            "11 是質數\n",
            "11 是質數\n",
            "11 是質數\n",
            "11 是質數\n"
          ]
        }
      ]
    },
    {
      "cell_type": "code",
      "source": [
        "n=int(input(\"請輸入正整數:\"))\n",
        "factor = [ ]\n",
        "for i in range(1,n+1):\n",
        "  if n % i ==0:\n",
        "     factor.append(i)\n",
        "     continue\n",
        "  else:\n",
        "    pass\n",
        "if len(factor)==0:\n",
        "  print(\"prime!\")\n",
        "else:\n",
        "  print(factor)\n",
        "\n",
        "i=1\n",
        "if n>=2:\n",
        " \n",
        "  while i <=n:\n",
        "    i+=i\n",
        "    if n %i==0:\n",
        "      print(n,\"不是質數\")\n",
        "   "
      ],
      "metadata": {
        "colab": {
          "base_uri": "https://localhost:8080/"
        },
        "id": "56cHJBCP9Q6p",
        "outputId": "9ae0edc9-cc03-4249-e8d3-b9426207d888"
      },
      "execution_count": null,
      "outputs": [
        {
          "output_type": "stream",
          "name": "stdout",
          "text": [
            "請輸入正整數:12\n",
            "[1, 2, 3, 4, 6, 12]\n",
            "12 不是質數\n",
            "12 不是質數\n"
          ]
        }
      ]
    }
  ]
}