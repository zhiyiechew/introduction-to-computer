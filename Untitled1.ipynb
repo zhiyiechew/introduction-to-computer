{
  "nbformat": 4,
  "nbformat_minor": 0,
  "metadata": {
    "colab": {
      "name": "Untitled1.ipynb",
      "provenance": [],
      "authorship_tag": "ABX9TyNT5wpOCQ8L+qNsWZz1iopM",
      "include_colab_link": true
    },
    "kernelspec": {
      "name": "python3",
      "display_name": "Python 3"
    },
    "language_info": {
      "name": "python"
    }
  },
  "cells": [
    {
      "cell_type": "markdown",
      "metadata": {
        "id": "view-in-github",
        "colab_type": "text"
      },
      "source": [
        "<a href=\"https://colab.research.google.com/github/zhiyiechew/introduction-to-computer/blob/main/Untitled1.ipynb\" target=\"_parent\"><img src=\"https://colab.research.google.com/assets/colab-badge.svg\" alt=\"Open In Colab\"/></a>"
      ]
    },
    {
      "cell_type": "code",
      "execution_count": null,
      "metadata": {
        "colab": {
          "base_uri": "https://localhost:8080/"
        },
        "id": "ep9VOMeznHF0",
        "outputId": "5d47cd1e-12ca-45ae-9d02-cd06dfea90ef"
      },
      "outputs": [
        {
          "name": "stdout",
          "output_type": "stream",
          "text": [
            "請輸入一個正整數: 10\n"
          ]
        }
      ],
      "source": [
        "test = int(input(\"請輸入一個正整數: \"))"
      ]
    },
    {
      "cell_type": "code",
      "source": [
        "test = int(input(\"請輸入一個正整數: \"))\n",
        "sum = 0\n",
        "for n in range(test+1):\n",
        "  sum= sum+n\n",
        "print(\"1到\",n,\"的整數和為\",sum)"
      ],
      "metadata": {
        "colab": {
          "base_uri": "https://localhost:8080/"
        },
        "id": "ZpplENJDncBI",
        "outputId": "cee89177-699f-411e-af1e-d37c210e1355"
      },
      "execution_count": null,
      "outputs": [
        {
          "output_type": "stream",
          "name": "stdout",
          "text": [
            "請輸入一個正整數: 50\n",
            "1到 50 的整數和為 1275\n"
          ]
        }
      ]
    },
    {
      "cell_type": "code",
      "source": [
        "test = int(input(\"請輸入一個正整數: \"))\n",
        "sum = 0\n",
        "for n in range (test+1):\n",
        "  sum= sum+n\n",
        "  print(\"1到\",n,\"的整數和為\",sum,\"\\t\",  sep  =\"\",  end  =\"\")\n",
        "  print()"
      ],
      "metadata": {
        "colab": {
          "base_uri": "https://localhost:8080/"
        },
        "id": "dXnMnL-toQq2",
        "outputId": "711950f4-a862-4fb9-c777-6d76458d33d0"
      },
      "execution_count": null,
      "outputs": [
        {
          "output_type": "stream",
          "name": "stdout",
          "text": [
            "請輸入一個正整數: 10\n",
            "1到0的整數和為0\t\n",
            "1到1的整數和為1\t\n",
            "1到2的整數和為3\t\n",
            "1到3的整數和為6\t\n",
            "1到4的整數和為10\t\n",
            "1到5的整數和為15\t\n",
            "1到6的整數和為21\t\n",
            "1到7的整數和為28\t\n",
            "1到8的整數和為36\t\n",
            "1到9的整數和為45\t\n",
            "1到10的整數和為55\t\n"
          ]
        }
      ]
    }
  ]
}